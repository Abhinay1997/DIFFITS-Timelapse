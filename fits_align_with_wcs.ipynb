{
 "cells": [
  {
   "cell_type": "code",
   "execution_count": 30,
   "metadata": {},
   "outputs": [],
   "source": [
    "#import matplotlib.pyplot as plt\n",
    "from astropy.io import fits\n",
    "#from astropy.visualization import astropy_mpl_style\n",
    "from astropy.wcs import WCS\n",
    "import numpy as np\n",
    "#plt.style.use(astropy_mpl_style)"
   ]
  },
  {
   "cell_type": "code",
   "execution_count": 2,
   "metadata": {},
   "outputs": [],
   "source": [
    "%matplotlib inline"
   ]
  },
  {
   "cell_type": "code",
   "execution_count": 18,
   "metadata": {},
   "outputs": [],
   "source": [
    "path1 = r'20190405T110036.fits.fz'\n",
    "path2 = r'20190405T110332.fits.fz'\n",
    "path3 = r'20190405T110633.fits.fz'"
   ]
  },
  {
   "cell_type": "code",
   "execution_count": 19,
   "metadata": {},
   "outputs": [],
   "source": [
    "def get_imgHDU_and_wcs(path_to_fits):\n",
    "    with fits.open(path_to_fits) as hdul:\n",
    "        #hdul.info()\n",
    "        image_hdu = hdul[1]\n",
    "        wcs = WCS(image_hdu.header)\n",
    "    return image_hdu,wcs\n",
    "        "
   ]
  },
  {
   "cell_type": "code",
   "execution_count": 20,
   "metadata": {},
   "outputs": [],
   "source": [
    "image_hdu1,wcs1 = get_imgHDU_and_wcs(path1)\n",
    "image_hdu2,wcs2 = get_imgHDU_and_wcs(path2)\n",
    "image_hdu3,wcs3 = get_imgHDU_and_wcs(path3)"
   ]
  },
  {
   "cell_type": "code",
   "execution_count": 21,
   "metadata": {},
   "outputs": [],
   "source": [
    "reference_pixels = [[2604,1700],[2602,1712],[2580,1722],[2300,1600]] #[[x,y]] "
   ]
  },
  {
   "cell_type": "code",
   "execution_count": 22,
   "metadata": {},
   "outputs": [],
   "source": [
    "reference_world_coordinates = wcs1.all_pix2world(reference_pixels,1)\n",
    "# Get pixel values in images 2 and 3 with the same coordinates\n",
    "pixels_with_reference_coords_1 = wcs2.all_world2pix(reference_world_coordinates,1)\n",
    "pixels_with_reference_coords_2 = wcs3.all_world2pix(reference_world_coordinates,1)"
   ]
  },
  {
   "cell_type": "markdown",
   "metadata": {},
   "source": [
    "#### After the pixels with RA and DEC corresponding to reference pixels in image 1 are found, find the shift"
   ]
  },
  {
   "cell_type": "code",
   "execution_count": 26,
   "metadata": {},
   "outputs": [],
   "source": [
    "def print_shift(pixels_actual,pixels_shifted):\n",
    "    assert len(pixels_actual)==len(pixels_shifted),\"Ensure inputs have same length\"\n",
    "    for ii in range(len(pixels_actual)):\n",
    "        x_shift,y_shift = pixels_actual[ii]-pixels_shifted[ii]\n",
    "        print(\"\\nx shift is {0} pixels and y shift is {1} pixels\".format(x_shift,y_shift))"
   ]
  },
  {
   "cell_type": "code",
   "execution_count": 29,
   "metadata": {},
   "outputs": [
    {
     "name": "stdout",
     "output_type": "stream",
     "text": [
      "Between image 1 and image 2\n",
      "\n",
      "x shift is 0.07305847275119959 pixels and y shift is -3.115030300623175 pixels\n",
      "\n",
      "x shift is 0.07194780935969902 pixels and y shift is -3.116035684471399 pixels\n",
      "\n",
      "x shift is 0.07229725723345837 pixels and y shift is -3.1191111032048866 pixels\n",
      "\n",
      "x shift is 0.10141022413881728 pixels and y shift is -3.1401492937727653 pixels\n",
      "\n",
      "Between image 1 and image 3\n",
      "\n",
      "x shift is 0.07305847275119959 pixels and y shift is -3.115030300623175 pixels\n",
      "\n",
      "x shift is 0.07194780935969902 pixels and y shift is -3.116035684471399 pixels\n",
      "\n",
      "x shift is 0.07229725723345837 pixels and y shift is -3.1191111032048866 pixels\n",
      "\n",
      "x shift is 0.10141022413881728 pixels and y shift is -3.1401492937727653 pixels\n"
     ]
    }
   ],
   "source": [
    "print('Between image 1 and image 2')\n",
    "print_shift(reference_pixels,pixels_with_reference_coords_1)\n",
    "print('\\nBetween image 1 and image 3')\n",
    "print_shift(reference_pixels,pixels_with_reference_coords_1)"
   ]
  },
  {
   "cell_type": "markdown",
   "metadata": {},
   "source": [
    "It seems the greater the distance from the center, greater is the shift. "
   ]
  }
 ],
 "metadata": {
  "kernelspec": {
   "display_name": "Python 3",
   "language": "python",
   "name": "python3"
  },
  "language_info": {
   "codemirror_mode": {
    "name": "ipython",
    "version": 3
   },
   "file_extension": ".py",
   "mimetype": "text/x-python",
   "name": "python",
   "nbconvert_exporter": "python",
   "pygments_lexer": "ipython3",
   "version": "3.6.6"
  }
 },
 "nbformat": 4,
 "nbformat_minor": 2
}
